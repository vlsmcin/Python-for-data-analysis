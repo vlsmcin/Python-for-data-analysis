{
 "cells": [
  {
   "cell_type": "code",
   "execution_count": 69,
   "id": "25040ddf",
   "metadata": {},
   "outputs": [
    {
     "data": {
      "text/plain": [
       "(1, 2, 3, 2, 3, 4)"
      ]
     },
     "execution_count": 69,
     "metadata": {},
     "output_type": "execute_result"
    }
   ],
   "source": [
    "tup1 = (1,2,3) + (2,3,4)\n",
    "tup1"
   ]
  },
  {
   "cell_type": "code",
   "execution_count": 70,
   "id": "d6569f52",
   "metadata": {},
   "outputs": [
    {
     "data": {
      "text/plain": [
       "(1, 2, 3, 1, 2, 3, 1, 2, 3, 1, 2, 3)"
      ]
     },
     "execution_count": 70,
     "metadata": {},
     "output_type": "execute_result"
    }
   ],
   "source": [
    "tup2 = (1,2,3) * 4\n",
    "tup2"
   ]
  },
  {
   "cell_type": "code",
   "execution_count": 71,
   "id": "60562e99",
   "metadata": {},
   "outputs": [
    {
     "data": {
      "text/plain": [
       "3"
      ]
     },
     "execution_count": 71,
     "metadata": {},
     "output_type": "execute_result"
    }
   ],
   "source": [
    "tup3 = 1,2,3\n",
    "a,b,c = tup3\n",
    "tup4 = 1,2,(3,4)\n",
    "a,b,(c,d) = tup4\n",
    "c"
   ]
  },
  {
   "cell_type": "code",
   "execution_count": 72,
   "id": "db91cbbb",
   "metadata": {},
   "outputs": [
    {
     "data": {
      "text/plain": [
       "2"
      ]
     },
     "execution_count": 72,
     "metadata": {},
     "output_type": "execute_result"
    }
   ],
   "source": [
    "a = 1\n",
    "b = 2\n",
    "a,b = b,a\n",
    "a"
   ]
  },
  {
   "cell_type": "code",
   "execution_count": 73,
   "id": "3790e04a",
   "metadata": {},
   "outputs": [
    {
     "data": {
      "text/plain": [
       "2"
      ]
     },
     "execution_count": 73,
     "metadata": {},
     "output_type": "execute_result"
    }
   ],
   "source": [
    "a,b, *rest = tup2\n",
    "b"
   ]
  },
  {
   "cell_type": "code",
   "execution_count": 74,
   "id": "bb259d3c",
   "metadata": {},
   "outputs": [
    {
     "data": {
      "text/plain": [
       "[0, 1, 2, 3, 4, 5, 6, 7, 8, 9, 10]"
      ]
     },
     "execution_count": 74,
     "metadata": {},
     "output_type": "execute_result"
    }
   ],
   "source": [
    "# Append não é tão custoso quando insert\n",
    "gen = range(10)\n",
    "gen = list(gen)\n",
    "gen.append(10)\n",
    "gen"
   ]
  },
  {
   "cell_type": "code",
   "execution_count": 75,
   "id": "9fdf0d6d",
   "metadata": {},
   "outputs": [
    {
     "name": "stdout",
     "output_type": "stream",
     "text": [
      "[1, 2, 3, 'opa', 'teste']\n",
      "[1, 2, 3, 'opa', 'teste']\n"
     ]
    }
   ],
   "source": [
    "# Somar é consideravelmente mais custoso do que .extend\n",
    "l1 = [1,2,3]\n",
    "l2 = l1 + ['opa','teste']\n",
    "l1.extend(['opa','teste'])\n",
    "\n",
    "print(l1)\n",
    "print(l2)"
   ]
  },
  {
   "cell_type": "code",
   "execution_count": 76,
   "id": "92473964",
   "metadata": {},
   "outputs": [
    {
     "data": {
      "text/plain": [
       "['ss', 'sdks', 'dokskdks', 'sfsfsfsjj']"
      ]
     },
     "execution_count": 76,
     "metadata": {},
     "output_type": "execute_result"
    }
   ],
   "source": [
    "# Ordenar usando função\n",
    "b = [\"dokskdks\",\"sdks\",\"ss\",\"sfsfsfsjj\"]\n",
    "b.sort(key=len)\n",
    "b"
   ]
  },
  {
   "cell_type": "code",
   "execution_count": 77,
   "id": "e1df1b1f",
   "metadata": {},
   "outputs": [
    {
     "name": "stdout",
     "output_type": "stream",
     "text": [
      "['ss', 'sdks']\n",
      "['dokskdks', 'sfsfsfsjj']\n",
      "['ss', 'sdks', 'dokskdks']\n",
      "['sfsfsfsjj']\n",
      "['ss', 'sdks', 'dkskdksk', 'ssksks']\n"
     ]
    },
    {
     "data": {
      "text/plain": [
       "['ssksks', 'dkskdksk', 'sdks', 'ss']"
      ]
     },
     "execution_count": 77,
     "metadata": {},
     "output_type": "execute_result"
    }
   ],
   "source": [
    "c = b[:2]\n",
    "print(c)\n",
    "d = b[2:]\n",
    "print(d)\n",
    "print(b[:-1])\n",
    "print(b[-1:])\n",
    "\n",
    "b[2:] = [\"dkskdksk\",\"ssksks\"]\n",
    "print(b)\n",
    "\n",
    "b[::-1]"
   ]
  },
  {
   "cell_type": "code",
   "execution_count": 78,
   "id": "ec6f2355",
   "metadata": {},
   "outputs": [
    {
     "data": {
      "text/plain": [
       "{7: 'Opa', 'indice': [1, 2, 3, 4], 5: 'testando'}"
      ]
     },
     "execution_count": 78,
     "metadata": {},
     "output_type": "execute_result"
    }
   ],
   "source": [
    "d1 = {}\n",
    "d1[7] = \"Opa\"\n",
    "d1[\"indice\"] = [1,2,3,4]\n",
    "d1[5] = \"testando\"\n",
    "d1"
   ]
  },
  {
   "cell_type": "code",
   "execution_count": 79,
   "id": "13737f7f",
   "metadata": {},
   "outputs": [
    {
     "data": {
      "text/plain": [
       "True"
      ]
     },
     "execution_count": 79,
     "metadata": {},
     "output_type": "execute_result"
    }
   ],
   "source": [
    "\"indice\" in d1"
   ]
  },
  {
   "cell_type": "code",
   "execution_count": 80,
   "id": "864f3ee7",
   "metadata": {},
   "outputs": [
    {
     "data": {
      "text/plain": [
       "{'indice': [1, 2, 3, 4], 5: 'testando'}"
      ]
     },
     "execution_count": 80,
     "metadata": {},
     "output_type": "execute_result"
    }
   ],
   "source": [
    "del d1[7]\n",
    "d1"
   ]
  },
  {
   "cell_type": "code",
   "execution_count": 81,
   "id": "1b55280b",
   "metadata": {},
   "outputs": [
    {
     "data": {
      "text/plain": [
       "['indice', 5]"
      ]
     },
     "execution_count": 81,
     "metadata": {},
     "output_type": "execute_result"
    }
   ],
   "source": [
    "list(d1.keys())"
   ]
  },
  {
   "cell_type": "code",
   "execution_count": 82,
   "id": "6420a945",
   "metadata": {},
   "outputs": [
    {
     "name": "stdout",
     "output_type": "stream",
     "text": [
      "[[1, 2, 3, 4], 'testando']\n",
      "[('indice', [1, 2, 3, 4]), (5, 'testando')]\n"
     ]
    }
   ],
   "source": [
    "print(list(d1.values()))\n",
    "print(list(d1.items()))"
   ]
  },
  {
   "cell_type": "code",
   "execution_count": 83,
   "id": "08621e8b",
   "metadata": {},
   "outputs": [
    {
     "data": {
      "text/plain": [
       "{'indice': [1, 2, 3, 4], 5: 'testando', 'map': 3, 'pandas': 5}"
      ]
     },
     "execution_count": 83,
     "metadata": {},
     "output_type": "execute_result"
    }
   ],
   "source": [
    "d1.update({\"map\":3,\"pandas\":5})\n",
    "d1"
   ]
  },
  {
   "cell_type": "code",
   "execution_count": 84,
   "id": "40bbb1cf",
   "metadata": {},
   "outputs": [
    {
     "data": {
      "text/plain": [
       "{1: 'abacaxi', 2: 'banana', 3: 'melao'}"
      ]
     },
     "execution_count": 84,
     "metadata": {},
     "output_type": "execute_result"
    }
   ],
   "source": [
    "map1 = {}\n",
    "key_list = [1,2,3,4]\n",
    "items_list = [\"abacaxi\",\"banana\",\"melao\"]\n",
    "for key,value in zip(key_list,items_list):\n",
    "    map1[key] = value\n",
    "map1"
   ]
  },
  {
   "cell_type": "code",
   "execution_count": 85,
   "id": "50d7297b",
   "metadata": {},
   "outputs": [
    {
     "data": {
      "text/plain": [
       "{'a': ['abacaxi', 'abacate', 'alemao'], 'b': ['banana', 'booleano']}"
      ]
     },
     "execution_count": 85,
     "metadata": {},
     "output_type": "execute_result"
    }
   ],
   "source": [
    "by_letter = {}\n",
    "words = [\"abacaxi\",\"banana\",\"abacate\",\"alemao\",\"booleano\"]\n",
    "\n",
    "for word in words:\n",
    "    letter = word[0]\n",
    "    by_letter.setdefault(letter,[]).append(word)\n",
    "\n",
    "by_letter"
   ]
  },
  {
   "cell_type": "code",
   "execution_count": 86,
   "id": "ed4556e5",
   "metadata": {},
   "outputs": [
    {
     "data": {
      "text/plain": [
       "defaultdict(list,\n",
       "            {'a': ['abacaxi', 'abacate', 'alemao'],\n",
       "             'b': ['banana', 'booleano']})"
      ]
     },
     "execution_count": 86,
     "metadata": {},
     "output_type": "execute_result"
    }
   ],
   "source": [
    "from collections import defaultdict\n",
    "\n",
    "by_letter = defaultdict(list)\n",
    "\n",
    "for word in words:\n",
    "    by_letter[word[0]].append(word)\n",
    "    \n",
    "by_letter"
   ]
  },
  {
   "cell_type": "code",
   "execution_count": 87,
   "id": "e3ca6465",
   "metadata": {},
   "outputs": [
    {
     "ename": "TypeError",
     "evalue": "unhashable type: 'list'",
     "output_type": "error",
     "traceback": [
      "\u001b[0;31m---------------------------------------------------------------------------\u001b[0m",
      "\u001b[0;31mTypeError\u001b[0m                                 Traceback (most recent call last)",
      "Cell \u001b[0;32mIn[87], line 6\u001b[0m\n\u001b[1;32m      3\u001b[0m \u001b[38;5;28mhash\u001b[39m((\u001b[38;5;241m1\u001b[39m,\u001b[38;5;241m2\u001b[39m,(\u001b[38;5;241m1\u001b[39m,\u001b[38;5;241m2\u001b[39m)))\n\u001b[1;32m      5\u001b[0m \u001b[38;5;66;03m# Vai dar erro aqui porque lista não é imutável\u001b[39;00m\n\u001b[0;32m----> 6\u001b[0m \u001b[38;5;28;43mhash\u001b[39;49m\u001b[43m(\u001b[49m\u001b[43m(\u001b[49m\u001b[38;5;241;43m1\u001b[39;49m\u001b[43m,\u001b[49m\u001b[38;5;241;43m2\u001b[39;49m\u001b[43m,\u001b[49m\u001b[43m[\u001b[49m\u001b[38;5;241;43m1\u001b[39;49m\u001b[43m,\u001b[49m\u001b[38;5;241;43m2\u001b[39;49m\u001b[43m]\u001b[49m\u001b[43m)\u001b[49m\u001b[43m)\u001b[49m\n",
      "\u001b[0;31mTypeError\u001b[0m: unhashable type: 'list'"
     ]
    }
   ],
   "source": [
    "# Chaves tem q ser imutáveis\n",
    "hash(\"string\")\n",
    "hash((1,2,(1,2)))\n",
    "\n",
    "# Vai dar erro aqui porque lista não é imutável\n",
    "hash((1,2,[1,2]))"
   ]
  },
  {
   "cell_type": "code",
   "execution_count": null,
   "id": "300e3353",
   "metadata": {},
   "outputs": [
    {
     "data": {
      "text/plain": [
       "{1, 2, 3}"
      ]
     },
     "execution_count": 27,
     "metadata": {},
     "output_type": "execute_result"
    }
   ],
   "source": [
    "# Set\n",
    "set([2,2,1,2,3])\n",
    "{2,2,1,2,3}"
   ]
  },
  {
   "cell_type": "code",
   "execution_count": null,
   "id": "28a364c8",
   "metadata": {},
   "outputs": [
    {
     "data": {
      "text/plain": [
       "{1, 2, 3, 4, 5}"
      ]
     },
     "execution_count": 28,
     "metadata": {},
     "output_type": "execute_result"
    }
   ],
   "source": [
    "a = {1,2,3,4}\n",
    "b = {3,4,5}\n",
    "a.union(b)\n",
    "\n",
    "# Igual ao union\n",
    "a | b"
   ]
  },
  {
   "cell_type": "code",
   "execution_count": null,
   "id": "dd99a3d0",
   "metadata": {},
   "outputs": [
    {
     "data": {
      "text/plain": [
       "{3, 4}"
      ]
     },
     "execution_count": 29,
     "metadata": {},
     "output_type": "execute_result"
    }
   ],
   "source": [
    "a.intersection(b)\n",
    "\n",
    "a & b"
   ]
  },
  {
   "cell_type": "code",
   "execution_count": null,
   "id": "517a07bf",
   "metadata": {},
   "outputs": [
    {
     "data": {
      "text/plain": [
       "{1, 2, 3, 4, 5}"
      ]
     },
     "execution_count": 30,
     "metadata": {},
     "output_type": "execute_result"
    }
   ],
   "source": [
    "a = {1,2,3,4}\n",
    "b = {3,4,5}\n",
    "\n",
    "# Modifica a, igual a a.update(b)\n",
    "a |= b\n",
    "a"
   ]
  },
  {
   "cell_type": "code",
   "execution_count": null,
   "id": "fa0aee9f",
   "metadata": {},
   "outputs": [
    {
     "data": {
      "text/plain": [
       "{1, 2}"
      ]
     },
     "execution_count": 32,
     "metadata": {},
     "output_type": "execute_result"
    }
   ],
   "source": [
    "a.intersection_update(b)\n",
    "a &= b\n",
    "\n",
    "a = {1,2,3,4}\n",
    "b = {3,4,5}\n",
    "\n",
    "# a.difference(b)\n",
    "a - b"
   ]
  },
  {
   "cell_type": "code",
   "execution_count": null,
   "id": "5722bd3a",
   "metadata": {},
   "outputs": [
    {
     "data": {
      "text/plain": [
       "{1, 2, 5}"
      ]
     },
     "execution_count": 33,
     "metadata": {},
     "output_type": "execute_result"
    }
   ],
   "source": [
    "a.difference_update(b)\n",
    "# a -= b\n",
    "\n",
    "a = {1,2,3,4}\n",
    "b = {3,4,5}\n",
    "\n",
    "a ^ b\n",
    "# a.symmetric_difference(b)\n",
    "# a ^= b\n",
    "# a.symmetric_difference_update(b)"
   ]
  },
  {
   "cell_type": "code",
   "execution_count": null,
   "id": "c682b5b3",
   "metadata": {},
   "outputs": [
    {
     "data": {
      "text/plain": [
       "True"
      ]
     },
     "execution_count": 34,
     "metadata": {},
     "output_type": "execute_result"
    }
   ],
   "source": [
    "a = {1,2,3,4}\n",
    "b = {3,4}\n",
    "\n",
    "a.issuperset(b)\n",
    "a >= b\n",
    "\n",
    "b.issubset(a)\n",
    "b <= a\n",
    "\n",
    "a.isdisjoint(b)\n",
    "\n",
    "# Ao passar um não conjunto para os métodos eles transformam em conjunto, mas para os\n",
    "# Bitwise primeiro tem que ser conjunto\n",
    "# Para conjuntos grandes, |= pode ser mais eficiente, já que é direto no local"
   ]
  },
  {
   "cell_type": "code",
   "execution_count": null,
   "id": "a2f3ed2e",
   "metadata": {},
   "outputs": [
    {
     "data": {
      "text/plain": [
       "True"
      ]
     },
     "execution_count": 35,
     "metadata": {},
     "output_type": "execute_result"
    }
   ],
   "source": [
    "{1,2,3} == {3,1,2}"
   ]
  },
  {
   "cell_type": "code",
   "execution_count": null,
   "id": "4a7e0c16",
   "metadata": {},
   "outputs": [],
   "source": [
    "collection = [\"dkskmd\",\"sss\",\"dskskmd\"]\n",
    "for index,value in enumerate(collection):\n",
    "    index += 1"
   ]
  },
  {
   "cell_type": "code",
   "execution_count": null,
   "id": "cbf9fd70",
   "metadata": {},
   "outputs": [
    {
     "data": {
      "text/plain": [
       "[('lista1', 'l2'), ('elemento2l1', 'el1,l2'), ('el3l1', 'l2el3')]"
      ]
     },
     "execution_count": 40,
     "metadata": {},
     "output_type": "execute_result"
    }
   ],
   "source": [
    "seq1 = [\"lista1\",\"elemento2l1\",\"el3l1\"]\n",
    "seq2 = [\"l2\",\"el1,l2\",\"l2el3\"]\n",
    "\n",
    "zipped = zip(seq1,seq2)\n",
    "list(zipped)"
   ]
  },
  {
   "cell_type": "code",
   "execution_count": null,
   "id": "51868128",
   "metadata": {},
   "outputs": [
    {
     "data": {
      "text/plain": [
       "[('lista1', 'l2', True), ('elemento2l1', 'el1,l2', False)]"
      ]
     },
     "execution_count": 41,
     "metadata": {},
     "output_type": "execute_result"
    }
   ],
   "source": [
    "# Escolhe o número de elementos da lista com menos elementos\n",
    "seq3 = [True,False]\n",
    "list(zip(seq1,seq2,seq3))"
   ]
  },
  {
   "cell_type": "code",
   "execution_count": null,
   "id": "584e7c87",
   "metadata": {},
   "outputs": [
    {
     "name": "stdout",
     "output_type": "stream",
     "text": [
      "0: lista1,l2\n",
      "1: elemento2l1,el1,l2\n",
      "2: el3l1,l2el3\n"
     ]
    }
   ],
   "source": [
    "for index,(a,b) in enumerate(zip(seq1,seq2)):\n",
    "    print(f'{index}: {a},{b}')"
   ]
  },
  {
   "cell_type": "code",
   "execution_count": null,
   "id": "522ff93f",
   "metadata": {},
   "outputs": [
    {
     "data": {
      "text/plain": [
       "['TEST', 'SLKDKS', 'DSK']"
      ]
     },
     "execution_count": 44,
     "metadata": {},
     "output_type": "execute_result"
    }
   ],
   "source": [
    "strings = [\"test\",\"slkdks\",\"q\",\"dsk\",\"qq\",\"ab\"]\n",
    "\n",
    "list1 = [x.upper() for x in strings if len(x) > 2]\n",
    "list1"
   ]
  },
  {
   "cell_type": "code",
   "execution_count": null,
   "id": "0a781e6c",
   "metadata": {},
   "outputs": [
    {
     "data": {
      "text/plain": [
       "{1, 2, 3, 4, 6}"
      ]
     },
     "execution_count": 46,
     "metadata": {},
     "output_type": "execute_result"
    }
   ],
   "source": [
    "unique_length = {len(x) for x in strings}\n",
    "unique_length"
   ]
  },
  {
   "cell_type": "code",
   "execution_count": 90,
   "id": "0e84a70c",
   "metadata": {},
   "outputs": [
    {
     "data": {
      "text/plain": [
       "{1, 2, 3, 4, 6}"
      ]
     },
     "execution_count": 90,
     "metadata": {},
     "output_type": "execute_result"
    }
   ],
   "source": [
    "del map\n",
    "set(map(len,strings))"
   ]
  },
  {
   "cell_type": "code",
   "execution_count": 91,
   "id": "745f69ac",
   "metadata": {},
   "outputs": [],
   "source": [
    "loc_mapping = {value: index for index,value in enumerate(strings)}"
   ]
  },
  {
   "cell_type": "code",
   "execution_count": 92,
   "id": "9dd2563a",
   "metadata": {},
   "outputs": [
    {
     "data": {
      "text/plain": [
       "[[1, 2, 3], [4, 5, 6], [7, 8, 9]]"
      ]
     },
     "execution_count": 92,
     "metadata": {},
     "output_type": "execute_result"
    }
   ],
   "source": [
    "some_tuples = ((1,2,3),(4,5,6),(7,8,9))\n",
    "tuples_list = [[x for x in tuples] for tuples in some_tuples]\n",
    "tuples_list"
   ]
  },
  {
   "cell_type": "code",
   "execution_count": 93,
   "id": "53d1929f",
   "metadata": {},
   "outputs": [
    {
     "data": {
      "text/plain": [
       "13"
      ]
     },
     "execution_count": 93,
     "metadata": {},
     "output_type": "execute_result"
    }
   ],
   "source": [
    "def soma(a,b,c=10):\n",
    "    return a+b+c\n",
    "\n",
    "soma(1,2)"
   ]
  },
  {
   "cell_type": "code",
   "execution_count": null,
   "id": "e25aed76",
   "metadata": {},
   "outputs": [
    {
     "data": {
      "text/plain": [
       "[0, 1, 2, 3, 4]"
      ]
     },
     "execution_count": 106,
     "metadata": {},
     "output_type": "execute_result"
    }
   ],
   "source": [
    "a = None\n",
    "\n",
    "def func():\n",
    "    global a\n",
    "    a = 3\n",
    "\n",
    "func()\n",
    "a\n",
    "\n",
    "b = []\n",
    "\n",
    "def func_t1():\n",
    "    for i in range(5):\n",
    "        b.append(i)\n",
    "\n",
    "func_t1()\n",
    "b\n",
    "\n",
    "# É possível tabém usar non-local, que seria em um escopo acima da função\n",
    "# Não necessariamente local"
   ]
  },
  {
   "cell_type": "code",
   "execution_count": 108,
   "id": "fd8a281a",
   "metadata": {},
   "outputs": [
    {
     "data": {
      "text/plain": [
       "(5, 6)"
      ]
     },
     "execution_count": 108,
     "metadata": {},
     "output_type": "execute_result"
    }
   ],
   "source": [
    "def f():\n",
    "    a = 5\n",
    "    b = 6\n",
    "    return a,b\n",
    "\n",
    "a,b = f()\n",
    "a,b"
   ]
  },
  {
   "cell_type": "code",
   "execution_count": 118,
   "id": "2030e23c",
   "metadata": {},
   "outputs": [
    {
     "data": {
      "text/plain": [
       "{'Alabama', 'Florida', 'Georgia', 'South Carolina'}"
      ]
     },
     "execution_count": 118,
     "metadata": {},
     "output_type": "execute_result"
    }
   ],
   "source": [
    "import re\n",
    "\n",
    "states = [\"     ALAbama\",\"Georgia!\",\"GeOrgia\",\"georgia\",\"FLoriDA\",\"South carolina!#\"]\n",
    "\n",
    "def remove_pontuation(value):\n",
    "    return re.sub(\"[!#?]\",\"\",value)\n",
    "\n",
    "clean_ops = [str.strip,remove_pontuation,str.title]\n",
    "\n",
    "def transform(strings,ops):\n",
    "    result = []\n",
    "    for string in strings:\n",
    "        for func in ops:\n",
    "            string = func(string)\n",
    "        result.append(string)\n",
    "    return result\n",
    "\n",
    "states = set(transform (states,clean_ops))\n",
    "states"
   ]
  },
  {
   "cell_type": "code",
   "execution_count": 119,
   "id": "598320e1",
   "metadata": {},
   "outputs": [
    {
     "data": {
      "text/plain": [
       "[2, 4, 8, 10, 42]"
      ]
     },
     "execution_count": 119,
     "metadata": {},
     "output_type": "execute_result"
    }
   ],
   "source": [
    "int_list = [1,2,4,5,21]\n",
    "\n",
    "def apply_to_list(some_list,f):\n",
    "    return [f(x) for x in some_list]\n",
    "\n",
    "apply_to_list(int_list,lambda x: x*2)"
   ]
  },
  {
   "cell_type": "code",
   "execution_count": 123,
   "id": "d19dcbae",
   "metadata": {},
   "outputs": [
    {
     "data": {
      "text/plain": [
       "['sss', 'dasas', 'dsdkskds', 'dsjdkjsk']"
      ]
     },
     "execution_count": 123,
     "metadata": {},
     "output_type": "execute_result"
    }
   ],
   "source": [
    "strings = [\"dsdkskds\",\"dsjdkjsk\",\"dasas\",\"sss\"]\n",
    "\n",
    "strings.sort(key=lambda x: len(x),reverse=False)\n",
    "\n",
    "strings"
   ]
  },
  {
   "cell_type": "code",
   "execution_count": null,
   "id": "680d8c2f",
   "metadata": {},
   "outputs": [
    {
     "name": "stdout",
     "output_type": "stream",
     "text": [
      "Gerando squares de 1 a 100\n",
      "1 4 9 16 25 36 49 64 81 100 "
     ]
    }
   ],
   "source": [
    "# Geradores\n",
    "def squares(n=10):\n",
    "    print(f\"Gerando squares de 1 a {n**2}\")\n",
    "    for i in range(1,n+1):\n",
    "        yield i**2\n",
    "\n",
    "ger = squares()\n",
    "\n",
    "for i in ger:\n",
    "    print(i, end=\" \")"
   ]
  },
  {
   "cell_type": "code",
   "execution_count": 137,
   "id": "014b4799",
   "metadata": {},
   "outputs": [
    {
     "data": {
      "text/plain": [
       "<generator object <genexpr> at 0x774c888fc7b0>"
      ]
     },
     "execution_count": 137,
     "metadata": {},
     "output_type": "execute_result"
    }
   ],
   "source": [
    "gen = (x**2 for x in range(100))\n",
    "gen"
   ]
  },
  {
   "cell_type": "code",
   "execution_count": 138,
   "id": "85bdc5b4",
   "metadata": {},
   "outputs": [
    {
     "data": {
      "text/plain": [
       "328350"
      ]
     },
     "execution_count": 138,
     "metadata": {},
     "output_type": "execute_result"
    }
   ],
   "source": [
    "sum(x ** 2 for x in range(100))"
   ]
  },
  {
   "cell_type": "code",
   "execution_count": 149,
   "id": "6e7e7383",
   "metadata": {},
   "outputs": [
    {
     "name": "stdout",
     "output_type": "stream",
     "text": [
      "A ['Alan', 'Alverto']\n",
      "B ['Brasil', 'Bernardo']\n",
      "C ['Caio']\n"
     ]
    }
   ],
   "source": [
    "import itertools\n",
    "\n",
    "def first_letter(string):\n",
    "    return string[0]\n",
    "\n",
    "names = [\"Alan\", \"Alverto\", \"Brasil\", \"Bernardo\", \"Caio\"]\n",
    "\n",
    "del list\n",
    "\n",
    "for letter, names in itertools.groupby(names, first_letter):\n",
    "    print(letter, list(names))\n"
   ]
  },
  {
   "cell_type": "code",
   "execution_count": 154,
   "id": "899b1e3f",
   "metadata": {},
   "outputs": [
    {
     "data": {
      "text/plain": [
       "'skdks'"
      ]
     },
     "execution_count": 154,
     "metadata": {},
     "output_type": "execute_result"
    }
   ],
   "source": [
    "def attempt_float(x):\n",
    "    try:\n",
    "        return float(x)\n",
    "    except:\n",
    "        return x\n",
    "    \n",
    "attempt_float(1.24)\n",
    "attempt_float(\"skdks\")"
   ]
  },
  {
   "cell_type": "code",
   "execution_count": 157,
   "id": "6e9a6cec",
   "metadata": {},
   "outputs": [
    {
     "data": {
      "text/plain": [
       "{}"
      ]
     },
     "execution_count": 157,
     "metadata": {},
     "output_type": "execute_result"
    }
   ],
   "source": [
    "def attempt_float(x):\n",
    "    try:\n",
    "        return float(x)\n",
    "    except (ValueError,TypeError):\n",
    "        return x\n",
    "    \n",
    "attempt_float(\"skdsk\")\n",
    "attempt_float({})"
   ]
  },
  {
   "cell_type": "code",
   "execution_count": 159,
   "id": "b868a9d3",
   "metadata": {},
   "outputs": [
    {
     "name": "stdout",
     "output_type": "stream",
     "text": [
      "Suceed\n"
     ]
    }
   ],
   "source": [
    "f = open('arquivo_falho.txt','r')\n",
    "\n",
    "try:\n",
    "    f.read()\n",
    "except:\n",
    "    print(\"Failed\")\n",
    "else:\n",
    "    print(\"Suceed\")\n",
    "finally:\n",
    "    f.close()"
   ]
  },
  {
   "cell_type": "code",
   "execution_count": 163,
   "id": "ab5d2aeb",
   "metadata": {},
   "outputs": [
    {
     "name": "stdout",
     "output_type": "stream",
     "text": [
      "## Python-for-data-analysis\n",
      "\n",
      "\n",
      "\n",
      "- Esse repositório foi feito para colocar em prática minhas experiências, e praticar os exercícios do livro \"Python para análise de dados de\n",
      "\n",
      "Wes McKinney (O'Reilly). Copyright 2022 Wes McKinney, 978-1-098-10403-0\"\n"
     ]
    }
   ],
   "source": [
    "# Arquivos\n",
    "path = \"../README.md\"\n",
    "f = open(path,encoding=\"utf-8\")\n",
    "\n",
    "for line in f:\n",
    "    print(line)\n",
    "\n",
    "f.close()"
   ]
  },
  {
   "cell_type": "code",
   "execution_count": 164,
   "id": "36508345",
   "metadata": {},
   "outputs": [
    {
     "data": {
      "text/plain": [
       "['## Python-for-data-analysis',\n",
       " '',\n",
       " '- Esse repositório foi feito para colocar em prática minhas experiências, e praticar os exercícios do livro \"Python para análise de dados de',\n",
       " 'Wes McKinney (O\\'Reilly). Copyright 2022 Wes McKinney, 978-1-098-10403-0\"']"
      ]
     },
     "execution_count": 164,
     "metadata": {},
     "output_type": "execute_result"
    }
   ],
   "source": [
    "lines = [x.rstrip() for x in open(path)]\n",
    "lines"
   ]
  },
  {
   "cell_type": "code",
   "execution_count": 165,
   "id": "0f7dfb0b",
   "metadata": {},
   "outputs": [],
   "source": [
    "with open(path) as f:\n",
    "    lines = [x.rstrip() for x in f]"
   ]
  },
  {
   "cell_type": "code",
   "execution_count": 168,
   "id": "6ecf4e00",
   "metadata": {},
   "outputs": [
    {
     "data": {
      "text/plain": [
       "['## Python-for-data-analysis\\n',\n",
       " '\\n',\n",
       " '- Esse repositório foi feito para colocar em prática minhas experiências, e praticar os exercícios do livro \"Python para análise de dados de\\n',\n",
       " 'Wes McKinney (O\\'Reilly). Copyright 2022 Wes McKinney, 978-1-098-10403-0\"']"
      ]
     },
     "execution_count": 168,
     "metadata": {},
     "output_type": "execute_result"
    }
   ],
   "source": [
    "path = \"../README.md\"\n",
    "with open(\"testando.txt\",mode=\"w\") as f:\n",
    "    f.writelines(x for x in open(path) if len(x) > 1)\n",
    "\n",
    "with open(path) as f:\n",
    "    lines = f.readlines()\n",
    "\n",
    "lines"
   ]
  },
  {
   "cell_type": "code",
   "execution_count": null,
   "id": "5749eee3",
   "metadata": {},
   "outputs": [],
   "source": []
  }
 ],
 "metadata": {
  "kernelspec": {
   "display_name": ".venv",
   "language": "python",
   "name": "python3"
  },
  "language_info": {
   "codemirror_mode": {
    "name": "ipython",
    "version": 3
   },
   "file_extension": ".py",
   "mimetype": "text/x-python",
   "name": "python",
   "nbconvert_exporter": "python",
   "pygments_lexer": "ipython3",
   "version": "3.10.12"
  }
 },
 "nbformat": 4,
 "nbformat_minor": 5
}
